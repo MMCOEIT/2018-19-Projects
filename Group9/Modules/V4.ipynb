{
 "cells": [
  {
   "cell_type": "markdown",
   "metadata": {},
   "source": [
    "# Perfomance Analysis"
   ]
  },
  {
   "cell_type": "markdown",
   "metadata": {},
   "source": [
    "## The UNSW-NB15 data set"
   ]
  },
  {
   "cell_type": "code",
   "execution_count": 1,
   "metadata": {},
   "outputs": [],
   "source": [
    "import pandas as pd"
   ]
  },
  {
   "cell_type": "code",
   "execution_count": 2,
   "metadata": {},
   "outputs": [],
   "source": [
    "unsw = pd.read_csv('UNSW_NB15.csv')"
   ]
  },
  {
   "cell_type": "code",
   "execution_count": 3,
   "metadata": {
    "scrolled": true
   },
   "outputs": [
    {
     "data": {
      "text/plain": [
       "Index(['id', 'dur', 'proto', 'service', 'state', 'spkts', 'dpkts', 'sbytes',\n",
       "       'dbytes', 'rate', 'sttl', 'dttl', 'sload', 'dload', 'sloss', 'dloss',\n",
       "       'sinpkt', 'dinpkt', 'sjit', 'djit', 'swin', 'stcpb', 'dtcpb', 'dwin',\n",
       "       'tcprtt', 'synack', 'ackdat', 'smean', 'dmean', 'trans_depth',\n",
       "       'response_body_len', 'ct_srv_src', 'ct_state_ttl', 'ct_dst_ltm',\n",
       "       'ct_src_dport_ltm', 'ct_dst_sport_ltm', 'ct_dst_src_ltm',\n",
       "       'is_ftp_login', 'ct_ftp_cmd', 'ct_flw_http_mthd', 'ct_src_ltm',\n",
       "       'ct_srv_dst', 'is_sm_ips_ports', 'attack_cat', 'label'],\n",
       "      dtype='object')"
      ]
     },
     "execution_count": 3,
     "metadata": {},
     "output_type": "execute_result"
    }
   ],
   "source": [
    "unsw.columns"
   ]
  },
  {
   "cell_type": "markdown",
   "metadata": {},
   "source": [
    "## Data Preprocessing"
   ]
  },
  {
   "cell_type": "code",
   "execution_count": 4,
   "metadata": {},
   "outputs": [],
   "source": [
    "cols_to_norm = ['dur','spkts','dpkts','sbytes','dbytes','rate','sttl','dttl','sload','dload','sloss','dloss','sinpkt','dinpkt','synack','ackdat','smean','dmean']"
   ]
  },
  {
   "cell_type": "markdown",
   "metadata": {},
   "source": [
    "## Data Normalisation"
   ]
  },
  {
   "cell_type": "code",
   "execution_count": 5,
   "metadata": {},
   "outputs": [],
   "source": [
    "unsw[cols_to_norm] = unsw[cols_to_norm].apply(lambda x: (x - x.min()) / (x.max()-x.min() ))"
   ]
  },
  {
   "cell_type": "code",
   "execution_count": 6,
   "metadata": {},
   "outputs": [
    {
     "name": "stderr",
     "output_type": "stream",
     "text": [
      "C:\\Anaconda\\lib\\site-packages\\h5py\\__init__.py:36: FutureWarning: Conversion of the second argument of issubdtype from `float` to `np.floating` is deprecated. In future, it will be treated as `np.float64 == np.dtype(float).type`.\n",
      "  from ._conv import register_converters as _register_converters\n"
     ]
    }
   ],
   "source": [
    "import tensorflow as tf"
   ]
  },
  {
   "cell_type": "code",
   "execution_count": 7,
   "metadata": {},
   "outputs": [],
   "source": [
    "dur = tf.feature_column.numeric_column('dur')\n",
    "spkts = tf.feature_column.numeric_column('spkts')\n",
    "dpkts = tf.feature_column.numeric_column('dpkts')\n",
    "sbytes = tf.feature_column.numeric_column('sbytes')\n",
    "dbytes = tf.feature_column.numeric_column('dbytes')\n",
    "rate = tf.feature_column.numeric_column('rate')\n",
    "sttl = tf.feature_column.numeric_column('sttl')\n",
    "dttl = tf.feature_column.numeric_column('dttl')\n",
    "sload = tf.feature_column.numeric_column('sload')\n",
    "dload = tf.feature_column.numeric_column('dload')\n",
    "sloss = tf.feature_column.numeric_column('sloss')\n",
    "dloss = tf.feature_column.numeric_column('dloss')\n",
    "sinpkt = tf.feature_column.numeric_column('sinpkt')\n",
    "dinpkt = tf.feature_column.numeric_column('dinpkt')\n",
    "synack = tf.feature_column.numeric_column('synack')\n",
    "ackdat = tf.feature_column.numeric_column('ackat')\n",
    "smean = tf.feature_column.numeric_column('smean')\n",
    "dmean = tf.feature_column.numeric_column('dmean')"
   ]
  },
  {
   "cell_type": "code",
   "execution_count": 8,
   "metadata": {},
   "outputs": [],
   "source": [
    "feat_cols = [dur,spkts,dpkts, sbytes, dbytes, rate, sttl, sload, dload, sloss, dloss, sinpkt,dinpkt, smean, dmean]"
   ]
  },
  {
   "cell_type": "code",
   "execution_count": 9,
   "metadata": {},
   "outputs": [],
   "source": [
    "x_data = unsw.drop('label', axis = 1)"
   ]
  },
  {
   "cell_type": "code",
   "execution_count": 10,
   "metadata": {},
   "outputs": [],
   "source": [
    "labels = unsw['label']"
   ]
  },
  {
   "cell_type": "code",
   "execution_count": 11,
   "metadata": {},
   "outputs": [],
   "source": [
    "from sklearn.model_selection import train_test_split"
   ]
  },
  {
   "cell_type": "code",
   "execution_count": 12,
   "metadata": {},
   "outputs": [],
   "source": [
    "X_train, x_test, y_train, y_test = train_test_split(x_data, labels, test_size = 0.3, random_state = 101)"
   ]
  },
  {
   "cell_type": "markdown",
   "metadata": {},
   "source": [
    "## Linear Classifier"
   ]
  },
  {
   "cell_type": "code",
   "execution_count": 13,
   "metadata": {},
   "outputs": [],
   "source": [
    "input_func = tf.estimator.inputs.pandas_input_fn(x = X_train, y = y_train, batch_size=10, num_epochs=1000, shuffle=True)"
   ]
  },
  {
   "cell_type": "code",
   "execution_count": 14,
   "metadata": {
    "scrolled": true
   },
   "outputs": [
    {
     "name": "stdout",
     "output_type": "stream",
     "text": [
      "INFO:tensorflow:Using default config.\n",
      "WARNING:tensorflow:Using temporary folder as model directory: C:\\Users\\ADi\\AppData\\Local\\Temp\\tmpdjpfzohi\n",
      "INFO:tensorflow:Using config: {'_model_dir': 'C:\\\\Users\\\\ADi\\\\AppData\\\\Local\\\\Temp\\\\tmpdjpfzohi', '_tf_random_seed': None, '_save_summary_steps': 100, '_save_checkpoints_steps': None, '_save_checkpoints_secs': 600, '_session_config': None, '_keep_checkpoint_max': 5, '_keep_checkpoint_every_n_hours': 10000, '_log_step_count_steps': 100, '_train_distribute': None, '_device_fn': None, '_service': None, '_cluster_spec': <tensorflow.python.training.server_lib.ClusterSpec object at 0x00000000056A5D30>, '_task_type': 'worker', '_task_id': 0, '_global_id_in_cluster': 0, '_master': '', '_evaluation_master': '', '_is_chief': True, '_num_ps_replicas': 0, '_num_worker_replicas': 1}\n"
     ]
    }
   ],
   "source": [
    "model = tf.estimator.LinearClassifier(feature_columns=feat_cols,n_classes=2,)"
   ]
  },
  {
   "cell_type": "code",
   "execution_count": 15,
   "metadata": {},
   "outputs": [
    {
     "name": "stdout",
     "output_type": "stream",
     "text": [
      "INFO:tensorflow:Calling model_fn.\n",
      "INFO:tensorflow:Done calling model_fn.\n",
      "INFO:tensorflow:Create CheckpointSaverHook.\n",
      "INFO:tensorflow:Graph was finalized.\n",
      "INFO:tensorflow:Running local_init_op.\n",
      "INFO:tensorflow:Done running local_init_op.\n",
      "INFO:tensorflow:Saving checkpoints for 0 into C:\\Users\\ADi\\AppData\\Local\\Temp\\tmpdjpfzohi\\model.ckpt.\n",
      "INFO:tensorflow:loss = 6.931472, step = 0\n",
      "INFO:tensorflow:global_step/sec: 146.628\n",
      "INFO:tensorflow:loss = 8.141283, step = 100 (0.682 sec)\n",
      "INFO:tensorflow:global_step/sec: 195.695\n",
      "INFO:tensorflow:loss = 3.7199895, step = 200 (0.511 sec)\n",
      "INFO:tensorflow:global_step/sec: 191.571\n",
      "INFO:tensorflow:loss = 6.0483665, step = 300 (0.522 sec)\n",
      "INFO:tensorflow:global_step/sec: 196.464\n",
      "INFO:tensorflow:loss = 3.8651543, step = 400 (0.509 sec)\n",
      "INFO:tensorflow:global_step/sec: 190.476\n",
      "INFO:tensorflow:loss = 4.469162, step = 500 (0.524 sec)\n",
      "INFO:tensorflow:global_step/sec: 184.502\n",
      "INFO:tensorflow:loss = 3.1802914, step = 600 (0.543 sec)\n",
      "INFO:tensorflow:global_step/sec: 156.006\n",
      "INFO:tensorflow:loss = 3.9772763, step = 700 (0.641 sec)\n",
      "INFO:tensorflow:global_step/sec: 176.056\n",
      "INFO:tensorflow:loss = 2.7836037, step = 800 (0.568 sec)\n",
      "INFO:tensorflow:global_step/sec: 175.747\n",
      "INFO:tensorflow:loss = 3.4003494, step = 900 (0.569 sec)\n",
      "INFO:tensorflow:Saving checkpoints for 1000 into C:\\Users\\ADi\\AppData\\Local\\Temp\\tmpdjpfzohi\\model.ckpt.\n",
      "INFO:tensorflow:Loss for final step: 4.8093557.\n"
     ]
    },
    {
     "data": {
      "text/plain": [
       "<tensorflow.python.estimator.canned.linear.LinearClassifier at 0xad7ba58>"
      ]
     },
     "execution_count": 15,
     "metadata": {},
     "output_type": "execute_result"
    }
   ],
   "source": [
    "model.train(input_fn=input_func, steps=1000)"
   ]
  },
  {
   "cell_type": "code",
   "execution_count": 16,
   "metadata": {},
   "outputs": [
    {
     "data": {
      "text/plain": [
       "24"
      ]
     },
     "execution_count": 16,
     "metadata": {},
     "output_type": "execute_result"
    }
   ],
   "source": [
    "cols_to_norm = ['dur', 'spkts', 'dpkts', 'sbytes', 'dbytes', 'rate',\n",
    "       'sttl', 'dttl', 'sload', 'dload', 'sloss', 'dloss', 'sinpkt', 'dinpkt',\n",
    "       'sjit', 'djit', 'swin', 'stcpb', 'dtcpb', 'dwin', 'synack', 'ackdat',\n",
    "       'smean', 'dmean']\n",
    "len(cols_to_norm)"
   ]
  },
  {
   "cell_type": "code",
   "execution_count": 17,
   "metadata": {},
   "outputs": [],
   "source": [
    "x_data[cols_to_norm] = x_data[cols_to_norm].apply(lambda x: (x - x.min())/(x.max()-x.min()))"
   ]
  },
  {
   "cell_type": "code",
   "execution_count": 18,
   "metadata": {},
   "outputs": [],
   "source": [
    "eval_input_function = tf.estimator.inputs.pandas_input_fn(x = x_test, y = y_test, batch_size=10, num_epochs=1,shuffle=False)"
   ]
  },
  {
   "cell_type": "code",
   "execution_count": 19,
   "metadata": {},
   "outputs": [
    {
     "name": "stdout",
     "output_type": "stream",
     "text": [
      "INFO:tensorflow:Calling model_fn.\n",
      "WARNING:tensorflow:Trapezoidal rule is known to produce incorrect PR-AUCs; please switch to \"careful_interpolation\" instead.\n",
      "WARNING:tensorflow:Trapezoidal rule is known to produce incorrect PR-AUCs; please switch to \"careful_interpolation\" instead.\n",
      "INFO:tensorflow:Done calling model_fn.\n",
      "INFO:tensorflow:Starting evaluation at 2019-03-23-08:09:57\n",
      "INFO:tensorflow:Graph was finalized.\n",
      "INFO:tensorflow:Restoring parameters from C:\\Users\\ADi\\AppData\\Local\\Temp\\tmpdjpfzohi\\model.ckpt-1000\n",
      "INFO:tensorflow:Running local_init_op.\n",
      "INFO:tensorflow:Done running local_init_op.\n",
      "INFO:tensorflow:Finished evaluation at 2019-03-23-08:10:28\n",
      "INFO:tensorflow:Saving dict for global step 1000: accuracy = 0.8478984, accuracy_baseline = 0.6797141, auc = 0.91823685, auc_precision_recall = 0.9435493, average_loss = 0.35497555, global_step = 1000, label/mean = 0.6797141, loss = 3.5492833, precision = 0.90218526, prediction/mean = 0.6876889, recall = 0.8706195\n",
      "INFO:tensorflow:Saving 'checkpoint_path' summary for global step 1000: C:\\Users\\ADi\\AppData\\Local\\Temp\\tmpdjpfzohi\\model.ckpt-1000\n"
     ]
    }
   ],
   "source": [
    "results = model.evaluate(eval_input_function)"
   ]
  },
  {
   "cell_type": "code",
   "execution_count": 20,
   "metadata": {},
   "outputs": [
    {
     "data": {
      "text/plain": [
       "{'accuracy': 0.8478984,\n",
       " 'accuracy_baseline': 0.6797141,\n",
       " 'auc': 0.91823685,\n",
       " 'auc_precision_recall': 0.9435493,\n",
       " 'average_loss': 0.35497555,\n",
       " 'label/mean': 0.6797141,\n",
       " 'loss': 3.5492833,\n",
       " 'precision': 0.90218526,\n",
       " 'prediction/mean': 0.6876889,\n",
       " 'recall': 0.8706195,\n",
       " 'global_step': 1000}"
      ]
     },
     "execution_count": 20,
     "metadata": {},
     "output_type": "execute_result"
    }
   ],
   "source": [
    "results"
   ]
  },
  {
   "cell_type": "markdown",
   "metadata": {},
   "source": [
    "## DNN classifier"
   ]
  },
  {
   "cell_type": "code",
   "execution_count": 21,
   "metadata": {},
   "outputs": [],
   "source": [
    "x_data = unsw.drop('attack_cat', axis = 1)\n",
    "labels = unsw['label']\n",
    "X_train, x_test, y_train, y_test = train_test_split(x_data, labels, test_size = 0.3, random_state = 101)"
   ]
  },
  {
   "cell_type": "code",
   "execution_count": 22,
   "metadata": {},
   "outputs": [],
   "source": [
    "assigned_grp = tf.feature_column.categorical_column_with_vocabulary_list('label', [0, 1])"
   ]
  },
  {
   "cell_type": "code",
   "execution_count": 23,
   "metadata": {},
   "outputs": [
    {
     "data": {
      "text/plain": [
       "Index(['id', 'dur', 'proto', 'service', 'state', 'spkts', 'dpkts', 'sbytes',\n",
       "       'dbytes', 'rate', 'sttl', 'dttl', 'sload', 'dload', 'sloss', 'dloss',\n",
       "       'sinpkt', 'dinpkt', 'sjit', 'djit', 'swin', 'stcpb', 'dtcpb', 'dwin',\n",
       "       'tcprtt', 'synack', 'ackdat', 'smean', 'dmean', 'trans_depth',\n",
       "       'response_body_len', 'ct_srv_src', 'ct_state_ttl', 'ct_dst_ltm',\n",
       "       'ct_src_dport_ltm', 'ct_dst_sport_ltm', 'ct_dst_src_ltm',\n",
       "       'is_ftp_login', 'ct_ftp_cmd', 'ct_flw_http_mthd', 'ct_src_ltm',\n",
       "       'ct_srv_dst', 'is_sm_ips_ports', 'label'],\n",
       "      dtype='object')"
      ]
     },
     "execution_count": 23,
     "metadata": {},
     "output_type": "execute_result"
    }
   ],
   "source": [
    "X_train.columns"
   ]
  },
  {
   "cell_type": "code",
   "execution_count": 24,
   "metadata": {},
   "outputs": [],
   "source": [
    "embedded_group_col = tf.feature_column.embedding_column(assigned_grp, dimension=2)"
   ]
  },
  {
   "cell_type": "code",
   "execution_count": 25,
   "metadata": {},
   "outputs": [],
   "source": [
    "feat_cols = [dur,spkts,dpkts, sbytes, dbytes, rate, sttl, sload, dload, sloss, dloss, sinpkt,dinpkt, smean, dmean, embedded_group_col]"
   ]
  },
  {
   "cell_type": "code",
   "execution_count": 26,
   "metadata": {
    "scrolled": true
   },
   "outputs": [],
   "source": [
    "dnn_input_func = tf.estimator.inputs.pandas_input_fn(x=X_train,y=y_train, batch_size=10, num_epochs=1000, shuffle=True)"
   ]
  },
  {
   "cell_type": "code",
   "execution_count": 27,
   "metadata": {},
   "outputs": [
    {
     "name": "stdout",
     "output_type": "stream",
     "text": [
      "INFO:tensorflow:Using default config.\n",
      "WARNING:tensorflow:Using temporary folder as model directory: C:\\Users\\ADi\\AppData\\Local\\Temp\\tmpkj1syduz\n",
      "INFO:tensorflow:Using config: {'_model_dir': 'C:\\\\Users\\\\ADi\\\\AppData\\\\Local\\\\Temp\\\\tmpkj1syduz', '_tf_random_seed': None, '_save_summary_steps': 100, '_save_checkpoints_steps': None, '_save_checkpoints_secs': 600, '_session_config': None, '_keep_checkpoint_max': 5, '_keep_checkpoint_every_n_hours': 10000, '_log_step_count_steps': 100, '_train_distribute': None, '_device_fn': None, '_service': None, '_cluster_spec': <tensorflow.python.training.server_lib.ClusterSpec object at 0x0000000021F2A630>, '_task_type': 'worker', '_task_id': 0, '_global_id_in_cluster': 0, '_master': '', '_evaluation_master': '', '_is_chief': True, '_num_ps_replicas': 0, '_num_worker_replicas': 1}\n"
     ]
    }
   ],
   "source": [
    "dnn_model = tf.estimator.DNNClassifier(hidden_units=[3,5,3], feature_columns=feat_cols, n_classes=2, optimizer = 'Adagrad')"
   ]
  },
  {
   "cell_type": "code",
   "execution_count": 28,
   "metadata": {},
   "outputs": [
    {
     "name": "stdout",
     "output_type": "stream",
     "text": [
      "INFO:tensorflow:Calling model_fn.\n",
      "INFO:tensorflow:Done calling model_fn.\n",
      "INFO:tensorflow:Create CheckpointSaverHook.\n",
      "INFO:tensorflow:Graph was finalized.\n",
      "INFO:tensorflow:Running local_init_op.\n",
      "INFO:tensorflow:Done running local_init_op.\n",
      "INFO:tensorflow:Saving checkpoints for 0 into C:\\Users\\ADi\\AppData\\Local\\Temp\\tmpkj1syduz\\model.ckpt.\n",
      "INFO:tensorflow:loss = 7.203273, step = 0\n",
      "INFO:tensorflow:global_step/sec: 126.582\n",
      "INFO:tensorflow:loss = 5.7038803, step = 100 (0.788 sec)\n",
      "INFO:tensorflow:global_step/sec: 168.919\n",
      "INFO:tensorflow:loss = 6.789616, step = 200 (0.592 sec)\n",
      "INFO:tensorflow:global_step/sec: 171.527\n",
      "INFO:tensorflow:loss = 7.4685135, step = 300 (0.583 sec)\n",
      "INFO:tensorflow:global_step/sec: 168.35\n",
      "INFO:tensorflow:loss = 4.049603, step = 400 (0.594 sec)\n",
      "INFO:tensorflow:global_step/sec: 161.551\n",
      "INFO:tensorflow:loss = 6.8674345, step = 500 (0.619 sec)\n",
      "INFO:tensorflow:global_step/sec: 151.745\n",
      "INFO:tensorflow:loss = 6.857594, step = 600 (0.659 sec)\n",
      "INFO:tensorflow:global_step/sec: 171.527\n",
      "INFO:tensorflow:loss = 4.619378, step = 700 (0.584 sec)\n",
      "INFO:tensorflow:global_step/sec: 162.338\n",
      "INFO:tensorflow:loss = 5.3473797, step = 800 (0.617 sec)\n",
      "INFO:tensorflow:global_step/sec: 158.479\n",
      "INFO:tensorflow:loss = 6.8754654, step = 900 (0.629 sec)\n",
      "INFO:tensorflow:Saving checkpoints for 1000 into C:\\Users\\ADi\\AppData\\Local\\Temp\\tmpkj1syduz\\model.ckpt.\n",
      "INFO:tensorflow:Loss for final step: 6.1157875.\n"
     ]
    },
    {
     "data": {
      "text/plain": [
       "<tensorflow.python.estimator.canned.dnn.DNNClassifier at 0x21f2a160>"
      ]
     },
     "execution_count": 28,
     "metadata": {},
     "output_type": "execute_result"
    }
   ],
   "source": [
    "dnn_model.train(input_fn=dnn_input_func, steps = 1000)"
   ]
  },
  {
   "cell_type": "code",
   "execution_count": 29,
   "metadata": {},
   "outputs": [],
   "source": [
    "dnn_eval_input_func = tf.estimator.inputs.pandas_input_fn(x = x_test, y = y_test, num_epochs=1, batch_size=10, shuffle=False)"
   ]
  },
  {
   "cell_type": "code",
   "execution_count": 30,
   "metadata": {},
   "outputs": [
    {
     "name": "stdout",
     "output_type": "stream",
     "text": [
      "INFO:tensorflow:Calling model_fn.\n",
      "WARNING:tensorflow:Trapezoidal rule is known to produce incorrect PR-AUCs; please switch to \"careful_interpolation\" instead.\n",
      "WARNING:tensorflow:Trapezoidal rule is known to produce incorrect PR-AUCs; please switch to \"careful_interpolation\" instead.\n",
      "INFO:tensorflow:Done calling model_fn.\n",
      "INFO:tensorflow:Starting evaluation at 2019-03-23-08:10:45\n",
      "INFO:tensorflow:Graph was finalized.\n",
      "INFO:tensorflow:Restoring parameters from C:\\Users\\ADi\\AppData\\Local\\Temp\\tmpkj1syduz\\model.ckpt-1000\n",
      "INFO:tensorflow:Running local_init_op.\n",
      "INFO:tensorflow:Done running local_init_op.\n",
      "INFO:tensorflow:Finished evaluation at 2019-03-23-08:11:22\n",
      "INFO:tensorflow:Saving dict for global step 1000: accuracy = 0.6797141, accuracy_baseline = 0.6797141, auc = 0.5, auc_precision_recall = 0.83985704, average_loss = 0.6270794, global_step = 1000, label/mean = 0.6797141, loss = 6.2699594, precision = 0.6797141, prediction/mean = 0.68255645, recall = 1.0\n",
      "INFO:tensorflow:Saving 'checkpoint_path' summary for global step 1000: C:\\Users\\ADi\\AppData\\Local\\Temp\\tmpkj1syduz\\model.ckpt-1000\n"
     ]
    }
   ],
   "source": [
    "results = dnn_model.evaluate(dnn_eval_input_func)"
   ]
  },
  {
   "cell_type": "code",
   "execution_count": 31,
   "metadata": {
    "scrolled": true
   },
   "outputs": [
    {
     "data": {
      "text/plain": [
       "{'accuracy': 0.6797141,\n",
       " 'accuracy_baseline': 0.6797141,\n",
       " 'auc': 0.5,\n",
       " 'auc_precision_recall': 0.83985704,\n",
       " 'average_loss': 0.6270794,\n",
       " 'label/mean': 0.6797141,\n",
       " 'loss': 6.2699594,\n",
       " 'precision': 0.6797141,\n",
       " 'prediction/mean': 0.68255645,\n",
       " 'recall': 1.0,\n",
       " 'global_step': 1000}"
      ]
     },
     "execution_count": 31,
     "metadata": {},
     "output_type": "execute_result"
    }
   ],
   "source": [
    "results"
   ]
  },
  {
   "cell_type": "markdown",
   "metadata": {},
   "source": [
    "## Baseline Classifier"
   ]
  },
  {
   "cell_type": "code",
   "execution_count": 32,
   "metadata": {},
   "outputs": [],
   "source": [
    "labels = unsw['label']\n",
    "X_train, x_test, y_train, y_test = train_test_split(x_data, labels, test_size = 0.3, random_state = 101)"
   ]
  },
  {
   "cell_type": "code",
   "execution_count": 33,
   "metadata": {},
   "outputs": [],
   "source": [
    "bc_input_func = tf.estimator.inputs.pandas_input_fn(x=X_train,y=y_train, batch_size=10, num_epochs=1000, shuffle=True)"
   ]
  },
  {
   "cell_type": "code",
   "execution_count": 34,
   "metadata": {},
   "outputs": [
    {
     "name": "stdout",
     "output_type": "stream",
     "text": [
      "INFO:tensorflow:Using default config.\n",
      "WARNING:tensorflow:Using temporary folder as model directory: C:\\Users\\ADi\\AppData\\Local\\Temp\\tmp42lst1tq\n",
      "INFO:tensorflow:Using config: {'_model_dir': 'C:\\\\Users\\\\ADi\\\\AppData\\\\Local\\\\Temp\\\\tmp42lst1tq', '_tf_random_seed': None, '_save_summary_steps': 100, '_save_checkpoints_steps': None, '_save_checkpoints_secs': 600, '_session_config': None, '_keep_checkpoint_max': 5, '_keep_checkpoint_every_n_hours': 10000, '_log_step_count_steps': 100, '_train_distribute': None, '_device_fn': None, '_service': None, '_cluster_spec': <tensorflow.python.training.server_lib.ClusterSpec object at 0x000000001C0B36A0>, '_task_type': 'worker', '_task_id': 0, '_global_id_in_cluster': 0, '_master': '', '_evaluation_master': '', '_is_chief': True, '_num_ps_replicas': 0, '_num_worker_replicas': 1}\n"
     ]
    }
   ],
   "source": [
    "bc_model = tf.estimator.BaselineClassifier(n_classes=2,optimizer=lambda: tf.train.AdamOptimizer(\n",
    "    learning_rate=0.01))"
   ]
  },
  {
   "cell_type": "code",
   "execution_count": 35,
   "metadata": {},
   "outputs": [
    {
     "name": "stdout",
     "output_type": "stream",
     "text": [
      "INFO:tensorflow:Calling model_fn.\n",
      "INFO:tensorflow:Done calling model_fn.\n",
      "INFO:tensorflow:Create CheckpointSaverHook.\n",
      "INFO:tensorflow:Graph was finalized.\n",
      "INFO:tensorflow:Running local_init_op.\n",
      "INFO:tensorflow:Done running local_init_op.\n",
      "INFO:tensorflow:Saving checkpoints for 0 into C:\\Users\\ADi\\AppData\\Local\\Temp\\tmp42lst1tq\\model.ckpt.\n",
      "INFO:tensorflow:loss = 6.931472, step = 0\n",
      "INFO:tensorflow:global_step/sec: 166.945\n",
      "INFO:tensorflow:loss = 5.660366, step = 100 (0.600 sec)\n",
      "INFO:tensorflow:global_step/sec: 259.067\n",
      "INFO:tensorflow:loss = 7.5537105, step = 200 (0.386 sec)\n",
      "INFO:tensorflow:global_step/sec: 213.22\n",
      "INFO:tensorflow:loss = 7.6454997, step = 300 (0.469 sec)\n",
      "INFO:tensorflow:global_step/sec: 220.264\n",
      "INFO:tensorflow:loss = 5.349785, step = 400 (0.454 sec)\n",
      "INFO:tensorflow:global_step/sec: 250.627\n",
      "INFO:tensorflow:loss = 8.502277, step = 500 (0.399 sec)\n",
      "INFO:tensorflow:global_step/sec: 255.754\n",
      "INFO:tensorflow:loss = 5.330124, step = 600 (0.391 sec)\n",
      "INFO:tensorflow:global_step/sec: 255.102\n",
      "INFO:tensorflow:loss = 5.2658777, step = 700 (0.391 sec)\n",
      "INFO:tensorflow:global_step/sec: 257.069\n",
      "INFO:tensorflow:loss = 6.9334393, step = 800 (0.390 sec)\n",
      "INFO:tensorflow:global_step/sec: 245.098\n",
      "INFO:tensorflow:loss = 6.9011, step = 900 (0.412 sec)\n",
      "INFO:tensorflow:Saving checkpoints for 1000 into C:\\Users\\ADi\\AppData\\Local\\Temp\\tmp42lst1tq\\model.ckpt.\n",
      "INFO:tensorflow:Loss for final step: 6.134135.\n"
     ]
    },
    {
     "data": {
      "text/plain": [
       "<tensorflow.python.estimator.canned.baseline.BaselineClassifier at 0x1bdfe588>"
      ]
     },
     "execution_count": 35,
     "metadata": {},
     "output_type": "execute_result"
    }
   ],
   "source": [
    "bc_model.train(input_fn=bc_input_func, steps = 1000)"
   ]
  },
  {
   "cell_type": "code",
   "execution_count": 36,
   "metadata": {},
   "outputs": [],
   "source": [
    "bc_eval_input_func = tf.estimator.inputs.pandas_input_fn(x = x_test, y = y_test, num_epochs=1, batch_size=10, shuffle=False)"
   ]
  },
  {
   "cell_type": "code",
   "execution_count": 37,
   "metadata": {},
   "outputs": [
    {
     "name": "stdout",
     "output_type": "stream",
     "text": [
      "INFO:tensorflow:Calling model_fn.\n",
      "WARNING:tensorflow:Trapezoidal rule is known to produce incorrect PR-AUCs; please switch to \"careful_interpolation\" instead.\n",
      "WARNING:tensorflow:Trapezoidal rule is known to produce incorrect PR-AUCs; please switch to \"careful_interpolation\" instead.\n",
      "INFO:tensorflow:Done calling model_fn.\n",
      "INFO:tensorflow:Starting evaluation at 2019-03-23-08:11:37\n",
      "INFO:tensorflow:Graph was finalized.\n",
      "INFO:tensorflow:Restoring parameters from C:\\Users\\ADi\\AppData\\Local\\Temp\\tmp42lst1tq\\model.ckpt-1000\n",
      "INFO:tensorflow:Running local_init_op.\n",
      "INFO:tensorflow:Done running local_init_op.\n",
      "INFO:tensorflow:Finished evaluation at 2019-03-23-08:12:02\n",
      "INFO:tensorflow:Saving dict for global step 1000: accuracy = 0.6797141, accuracy_baseline = 0.6797141, auc = 0.5, auc_precision_recall = 0.83985704, average_loss = 0.6274951, global_step = 1000, label/mean = 0.6797141, loss = 6.274116, precision = 0.6797141, prediction/mean = 0.6661532, recall = 1.0\n",
      "INFO:tensorflow:Saving 'checkpoint_path' summary for global step 1000: C:\\Users\\ADi\\AppData\\Local\\Temp\\tmp42lst1tq\\model.ckpt-1000\n"
     ]
    }
   ],
   "source": [
    "bcresults = bc_model.evaluate(bc_eval_input_func)"
   ]
  },
  {
   "cell_type": "code",
   "execution_count": 38,
   "metadata": {},
   "outputs": [
    {
     "data": {
      "text/plain": [
       "{'accuracy': 0.6797141,\n",
       " 'accuracy_baseline': 0.6797141,\n",
       " 'auc': 0.5,\n",
       " 'auc_precision_recall': 0.83985704,\n",
       " 'average_loss': 0.6274951,\n",
       " 'label/mean': 0.6797141,\n",
       " 'loss': 6.274116,\n",
       " 'precision': 0.6797141,\n",
       " 'prediction/mean': 0.6661532,\n",
       " 'recall': 1.0,\n",
       " 'global_step': 1000}"
      ]
     },
     "execution_count": 38,
     "metadata": {},
     "output_type": "execute_result"
    }
   ],
   "source": [
    "bcresults"
   ]
  },
  {
   "cell_type": "markdown",
   "metadata": {},
   "source": [
    "## DNNLinearCombined Classifier"
   ]
  },
  {
   "cell_type": "code",
   "execution_count": 39,
   "metadata": {},
   "outputs": [],
   "source": [
    "labels = unsw['label']\n",
    "X_train, x_test, y_train, y_test = train_test_split(x_data, labels, test_size = 0.3, random_state = 101)"
   ]
  },
  {
   "cell_type": "code",
   "execution_count": 40,
   "metadata": {},
   "outputs": [],
   "source": [
    "assigned_grp = tf.feature_column.categorical_column_with_vocabulary_list('label', [0, 1])"
   ]
  },
  {
   "cell_type": "code",
   "execution_count": 41,
   "metadata": {},
   "outputs": [],
   "source": [
    "embedded_group_col = tf.feature_column.embedding_column(assigned_grp, dimension=2)"
   ]
  },
  {
   "cell_type": "code",
   "execution_count": 42,
   "metadata": {},
   "outputs": [],
   "source": [
    "dnn_feat_cols = [dur,spkts,dpkts, sbytes, dbytes, rate, sttl, sload, dload, sloss, dloss, sinpkt,dinpkt, smean, dmean, embedded_group_col]"
   ]
  },
  {
   "cell_type": "code",
   "execution_count": 43,
   "metadata": {},
   "outputs": [],
   "source": [
    "lin_feat_cols = [dur,spkts,dpkts, sbytes, dbytes, rate, sttl, sload, dload, sloss, dloss, sinpkt,dinpkt, smean, dmean]"
   ]
  },
  {
   "cell_type": "code",
   "execution_count": 44,
   "metadata": {},
   "outputs": [],
   "source": [
    "dnnlc_input_func = tf.estimator.inputs.pandas_input_fn(x=X_train,y=y_train, batch_size=10, num_epochs=1000, shuffle=True)"
   ]
  },
  {
   "cell_type": "code",
   "execution_count": 45,
   "metadata": {},
   "outputs": [
    {
     "name": "stdout",
     "output_type": "stream",
     "text": [
      "INFO:tensorflow:Using default config.\n",
      "WARNING:tensorflow:Using temporary folder as model directory: C:\\Users\\ADi\\AppData\\Local\\Temp\\tmptlr_1q3i\n",
      "INFO:tensorflow:Using config: {'_model_dir': 'C:\\\\Users\\\\ADi\\\\AppData\\\\Local\\\\Temp\\\\tmptlr_1q3i', '_tf_random_seed': None, '_save_summary_steps': 100, '_save_checkpoints_steps': None, '_save_checkpoints_secs': 600, '_session_config': None, '_keep_checkpoint_max': 5, '_keep_checkpoint_every_n_hours': 10000, '_log_step_count_steps': 100, '_train_distribute': None, '_device_fn': None, '_service': None, '_cluster_spec': <tensorflow.python.training.server_lib.ClusterSpec object at 0x000000001E7E1390>, '_task_type': 'worker', '_task_id': 0, '_global_id_in_cluster': 0, '_master': '', '_evaluation_master': '', '_is_chief': True, '_num_ps_replicas': 0, '_num_worker_replicas': 1}\n"
     ]
    }
   ],
   "source": [
    "dnnlc_model = tf.estimator.DNNLinearCombinedClassifier(n_classes=2, linear_feature_columns=lin_feat_cols, linear_optimizer='Ftrl', dnn_feature_columns=dnn_feat_cols,dnn_hidden_units=[200,350,300], dnn_optimizer=tf.train.ProximalAdagradOptimizer(\n",
    "    learning_rate=0.01,\n",
    "    l1_regularization_strength=0.001,\n",
    "    l2_regularization_strength=0.001))"
   ]
  },
  {
   "cell_type": "code",
   "execution_count": 46,
   "metadata": {},
   "outputs": [
    {
     "name": "stdout",
     "output_type": "stream",
     "text": [
      "INFO:tensorflow:Calling model_fn.\n",
      "INFO:tensorflow:Done calling model_fn.\n",
      "INFO:tensorflow:Create CheckpointSaverHook.\n",
      "INFO:tensorflow:Graph was finalized.\n",
      "INFO:tensorflow:Running local_init_op.\n",
      "INFO:tensorflow:Done running local_init_op.\n",
      "INFO:tensorflow:Saving checkpoints for 0 into C:\\Users\\ADi\\AppData\\Local\\Temp\\tmptlr_1q3i\\model.ckpt.\n",
      "INFO:tensorflow:loss = 6.9837313, step = 0\n",
      "INFO:tensorflow:global_step/sec: 82.7815\n",
      "INFO:tensorflow:loss = 0.015594535, step = 100 (1.209 sec)\n",
      "INFO:tensorflow:global_step/sec: 91.9118\n",
      "INFO:tensorflow:loss = 0.0116810305, step = 200 (1.088 sec)\n",
      "INFO:tensorflow:global_step/sec: 97.2763\n",
      "INFO:tensorflow:loss = 0.010240341, step = 300 (1.027 sec)\n",
      "INFO:tensorflow:global_step/sec: 92.8505\n",
      "INFO:tensorflow:loss = 0.011735291, step = 400 (1.078 sec)\n",
      "INFO:tensorflow:global_step/sec: 114.025\n",
      "INFO:tensorflow:loss = 0.0071750716, step = 500 (0.876 sec)\n",
      "INFO:tensorflow:global_step/sec: 100.2\n",
      "INFO:tensorflow:loss = 0.012724978, step = 600 (0.998 sec)\n",
      "INFO:tensorflow:global_step/sec: 111.732\n",
      "INFO:tensorflow:loss = 0.010111308, step = 700 (0.896 sec)\n",
      "INFO:tensorflow:global_step/sec: 104.822\n",
      "INFO:tensorflow:loss = 0.011425753, step = 800 (0.953 sec)\n",
      "INFO:tensorflow:global_step/sec: 111.483\n",
      "INFO:tensorflow:loss = 0.01624315, step = 900 (0.897 sec)\n",
      "INFO:tensorflow:Saving checkpoints for 1000 into C:\\Users\\ADi\\AppData\\Local\\Temp\\tmptlr_1q3i\\model.ckpt.\n",
      "INFO:tensorflow:Loss for final step: 0.015246847.\n"
     ]
    },
    {
     "data": {
      "text/plain": [
       "<tensorflow.python.estimator.canned.dnn_linear_combined.DNNLinearCombinedClassifier at 0x1e7e14e0>"
      ]
     },
     "execution_count": 46,
     "metadata": {},
     "output_type": "execute_result"
    }
   ],
   "source": [
    "dnnlc_model.train(input_fn=dnnlc_input_func, steps = 1000)"
   ]
  },
  {
   "cell_type": "code",
   "execution_count": 47,
   "metadata": {},
   "outputs": [],
   "source": [
    "dnnlc_eval_input_func = tf.estimator.inputs.pandas_input_fn(x = x_test, y = y_test, num_epochs=1, batch_size=10, shuffle=False)"
   ]
  },
  {
   "cell_type": "code",
   "execution_count": 48,
   "metadata": {},
   "outputs": [
    {
     "name": "stdout",
     "output_type": "stream",
     "text": [
      "INFO:tensorflow:Calling model_fn.\n",
      "WARNING:tensorflow:Trapezoidal rule is known to produce incorrect PR-AUCs; please switch to \"careful_interpolation\" instead.\n",
      "WARNING:tensorflow:Trapezoidal rule is known to produce incorrect PR-AUCs; please switch to \"careful_interpolation\" instead.\n",
      "INFO:tensorflow:Done calling model_fn.\n",
      "INFO:tensorflow:Starting evaluation at 2019-03-23-08:12:29\n",
      "INFO:tensorflow:Graph was finalized.\n",
      "INFO:tensorflow:Restoring parameters from C:\\Users\\ADi\\AppData\\Local\\Temp\\tmptlr_1q3i\\model.ckpt-1000\n",
      "INFO:tensorflow:Running local_init_op.\n",
      "INFO:tensorflow:Done running local_init_op.\n",
      "INFO:tensorflow:Finished evaluation at 2019-03-23-08:13:08\n",
      "INFO:tensorflow:Saving dict for global step 1000: accuracy = 1.0, accuracy_baseline = 0.6797141, auc = 1.0, auc_precision_recall = 1.0, average_loss = 0.0012238203, global_step = 1000, label/mean = 0.6797141, loss = 0.012236575, precision = 1.0, prediction/mean = 0.67962176, recall = 1.0\n",
      "INFO:tensorflow:Saving 'checkpoint_path' summary for global step 1000: C:\\Users\\ADi\\AppData\\Local\\Temp\\tmptlr_1q3i\\model.ckpt-1000\n"
     ]
    }
   ],
   "source": [
    "dnnlcresults = dnnlc_model.evaluate(dnnlc_eval_input_func)"
   ]
  },
  {
   "cell_type": "code",
   "execution_count": 49,
   "metadata": {},
   "outputs": [
    {
     "data": {
      "text/plain": [
       "{'accuracy': 1.0,\n",
       " 'accuracy_baseline': 0.6797141,\n",
       " 'auc': 1.0,\n",
       " 'auc_precision_recall': 1.0,\n",
       " 'average_loss': 0.0012238203,\n",
       " 'label/mean': 0.6797141,\n",
       " 'loss': 0.012236575,\n",
       " 'precision': 1.0,\n",
       " 'prediction/mean': 0.67962176,\n",
       " 'recall': 1.0,\n",
       " 'global_step': 1000}"
      ]
     },
     "execution_count": 49,
     "metadata": {},
     "output_type": "execute_result"
    }
   ],
   "source": [
    "dnnlcresults"
   ]
  }
 ],
 "metadata": {
  "kernelspec": {
   "display_name": "Python 3",
   "language": "python",
   "name": "python3"
  },
  "language_info": {
   "codemirror_mode": {
    "name": "ipython",
    "version": 3
   },
   "file_extension": ".py",
   "mimetype": "text/x-python",
   "name": "python",
   "nbconvert_exporter": "python",
   "pygments_lexer": "ipython3",
   "version": "3.6.5"
  }
 },
 "nbformat": 4,
 "nbformat_minor": 2
}
